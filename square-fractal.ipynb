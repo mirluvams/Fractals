{
 "cells": [
  {
   "cell_type": "code",
   "execution_count": 12,
   "id": "6500f1ef-6160-45d8-b8f6-2c9eeea7cfb7",
   "metadata": {},
   "outputs": [
    {
     "data": {
      "image/png": "[encoded data removed]",
      "text/plain": [
       "<Figure size 432x288 with 1 Axes>"
      ]
     },
     "metadata": {
      "needs_background": "light"
     },
     "output_type": "display_data"
    }
   ],
   "source": [
    "#!/usr/bin/env python3\n",
    "#\n",
    "#\n",
    "#    mirluvams@comunidad.unam.mx\n",
    "#    Copyright (C) 2022 Mirluvams\n",
    "#\n",
    "#    This program is free software: you can redistribute it and/or modify\n",
    "#    it under the terms of the GNU General Public License as published by\n",
    "#    the Free Software Foundation, either version 3 of the License, or\n",
    "#    (at your option) any later version.\n",
    "#\n",
    "#    This program is distributed in the hope that it will be useful,\n",
    "#    but WITHOUT ANY WARRANTY; without even the implied warranty of\n",
    "#    MERCHANTABILITY or FITNESS FOR A PARTICULAR PURPOSE.  See the\n",
    "#    GNU General Public License for more details.\n",
    "#\n",
    "#    You should have received a copy of the GNU General Public License\n",
    "#    along with this program.  If not, see <https://www.gnu.org/licenses/>.\n",
    "#\n",
    "\n",
    "import numpy as np\n",
    "import math\n",
    "import matplotlib.pyplot as plt\n",
    "\n",
    "def dibujar(x,y,l):\n",
    "    p0 = (x,y)\n",
    "    p1 = (x+l, y)\n",
    "    p2 = (x+l, y+l)\n",
    "    p3 = (x, y+l)\n",
    "\n",
    "    plt.plot([p0[0],p1[0],p2[0],p3[0],p0[0]],\n",
    "            [p0[1],p1[1],p2[1],p3[1],p0[1]])\n",
    "    \n",
    "def fractal(n, x, y, l, desde=\"\"):\n",
    "    dibujar(x,y,l)\n",
    "    if n > 0:\n",
    "        \n",
    "        if desde!=\"der\":\n",
    "            a0x = x + l\n",
    "            a0y = y + l/3\n",
    "            fractal(n-1,a0x, a0y, l/3, \"izq\")\n",
    "       \n",
    "        if desde!=\"arriba\":        \n",
    "            b0x = x + l/3\n",
    "            b0y = y - l/3\n",
    "            fractal(n-1,b0x, b0y, l/3, \"abajo\")\n",
    "        \n",
    "        if desde!=\"izq\":\n",
    "            c0x = x - l/3\n",
    "            c0y = y + l/3\n",
    "            fractal(n-1,c0x, c0y, l/3,\"der\")\n",
    "        \n",
    "        if desde!=\"abajo\":\n",
    "            d0x = x + l/3\n",
    "            d0y = y + l\n",
    "            fractal(n-1,d0x, d0y, l/3, \"arriba\")\n",
    "        \n",
    "fractal(3,0,0,1)\n",
    "plt.show()"
   ]
  },
  {
   "cell_type": "code",
   "execution_count": null,
   "id": "bec72c81-612c-4614-875a-63f52a15e4cb",
   "metadata": {},
   "outputs": [],
   "source": []
  }
 ],
 "metadata": {
  "kernelspec": {
   "display_name": "Python 3 (ipykernel)",
   "language": "python",
   "name": "python3"
  },
  "language_info": {
   "codemirror_mode": {
    "name": "ipython",
    "version": 3
   },
   "file_extension": ".py",
   "mimetype": "text/x-python",
   "name": "python",
   "nbconvert_exporter": "python",
   "pygments_lexer": "ipython3",
   "version": "3.9.7"
  }
 },
 "nbformat": 4,
 "nbformat_minor": 5
}
